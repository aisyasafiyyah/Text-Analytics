{
 "cells": [
  {
   "cell_type": "code",
   "execution_count": 3,
   "id": "0d20e3da-c717-4be5-af6b-76fced6f725d",
   "metadata": {},
   "outputs": [],
   "source": [
    "import numpy as np \n",
    "from sklearn.cluster import KMeans \n",
    "from sklearn.feature_extraction.text import TfidfVectorizer \n",
    "from tabulate import tabulate \n",
    "from collections import Counter "
   ]
  },
  {
   "cell_type": "code",
   "execution_count": 4,
   "id": "20f93d20-9b34-48de-805c-255f7d35698e",
   "metadata": {},
   "outputs": [],
   "source": [
    "dataset = [\"I love playing football on the weekends\", \n",
    "           \"I enjoy hiking and camping in the mountains\", \n",
    "           \"I like to read books and watch movies\", \n",
    "           \"I prefer playing video games over sports\", \n",
    "           \"I love listening to music and going to concerts\"] "
   ]
  },
  {
   "cell_type": "code",
   "execution_count": 7,
   "id": "7ded2566-efd0-4ec1-a0d0-bcd369cc242b",
   "metadata": {},
   "outputs": [],
   "source": [
    "vectorizer = TfidfVectorizer() \n",
    "X = vectorizer.fit_transform(dataset) "
   ]
  },
  {
   "cell_type": "code",
   "execution_count": 14,
   "id": "bc322ecf-7d8c-4c2a-acc1-4babba7afa0f",
   "metadata": {},
   "outputs": [
    {
     "name": "stdout",
     "output_type": "stream",
     "text": [
      "Document                                           Predicted Cluster\n",
      "-----------------------------------------------  -------------------\n",
      "I love playing football on the weekends                            0\n",
      "I enjoy hiking and camping in the mountains                        0\n",
      "I like to read books and watch movies                              1\n",
      "I prefer playing video games over sports                           0\n",
      "I love listening to music and going to concerts                    1\n",
      "\n",
      "Top terms per cluster:\n",
      "Cluster 0:\n",
      " playing\n",
      " the\n",
      " weekends\n",
      " on\n",
      " football\n",
      " video\n",
      " sports\n",
      " prefer\n",
      " over\n",
      " games\n",
      "\n",
      "Cluster 1:\n",
      " to\n",
      " and\n",
      " read\n",
      " watch\n",
      " movies\n",
      " like\n",
      " books\n",
      " concerts\n",
      " going\n",
      " music\n",
      "\n"
     ]
    }
   ],
   "source": [
    "k = 2\n",
    "km = KMeans(n_clusters=k) \n",
    "km.fit(X)\n",
    "\n",
    "y_pred = km.predict(X)\n",
    "\n",
    "table_data = [[\"Document\", \"Predicted Cluster\"]] \n",
    "table_data.extend([[doc, cluster] for doc, cluster in zip(dataset, y_pred)]) \n",
    "print(tabulate(table_data, headers=\"firstrow\"))\n",
    "\n",
    "print(\"\\nTop terms per cluster:\") \n",
    "order_centroids = km.cluster_centers_.argsort()[:, ::-1] \n",
    "terms = vectorizer.get_feature_names_out() \n",
    "for i in range(k): \n",
    "    print(\"Cluster %d:\" % i) \n",
    "    for ind in order_centroids[i, :10]: \n",
    "        print(' %s' % terms[ind]) \n",
    "    print()"
   ]
  },
  {
   "cell_type": "code",
   "execution_count": 16,
   "id": "6e8688a2-5d66-424b-8e0e-77bf209fb1b1",
   "metadata": {},
   "outputs": [
    {
     "name": "stdout",
     "output_type": "stream",
     "text": [
      "Purity: 0.6\n"
     ]
    }
   ],
   "source": [
    "total_samples = len(y_pred) \n",
    "cluster_label_counts = [Counter(y_pred)] \n",
    "purity = sum(max(cluster.values()) for cluster in cluster_label_counts) / total_samples \n",
    "print(\"Purity:\", purity)"
   ]
  },
  {
   "cell_type": "code",
   "execution_count": null,
   "id": "8ea7ec72-8872-4fb2-b059-74023a6cb064",
   "metadata": {},
   "outputs": [],
   "source": []
  }
 ],
 "metadata": {
  "kernelspec": {
   "display_name": "Python [conda env:base] *",
   "language": "python",
   "name": "conda-base-py"
  },
  "language_info": {
   "codemirror_mode": {
    "name": "ipython",
    "version": 3
   },
   "file_extension": ".py",
   "mimetype": "text/x-python",
   "name": "python",
   "nbconvert_exporter": "python",
   "pygments_lexer": "ipython3",
   "version": "3.12.7"
  }
 },
 "nbformat": 4,
 "nbformat_minor": 5
}
