{
 "cells": [
  {
   "cell_type": "code",
   "execution_count": 2,
   "id": "835f1c81-4bba-4bcf-887b-8f23a987b343",
   "metadata": {},
   "outputs": [],
   "source": [
    "import pandas as pd\n",
    "import math # use for log function\n",
    "from collections import Counter"
   ]
  },
  {
   "cell_type": "code",
   "execution_count": 4,
   "id": "b1656c23-54ab-4dfe-bf15-e2334c3c7b6d",
   "metadata": {},
   "outputs": [],
   "source": [
    "file_path = \"Processed_Reviews.csv\"\n",
    "df = pd.read_csv(file_path)"
   ]
  },
  {
   "cell_type": "code",
   "execution_count": 6,
   "id": "ba38dd02-a212-4bce-8377-eaa326f3edc6",
   "metadata": {},
   "outputs": [],
   "source": [
    "tokenized_reviews = df['tokenized'].dropna().apply(eval)"
   ]
  },
  {
   "cell_type": "code",
   "execution_count": 8,
   "id": "1da0e409-1f88-44b5-8cc6-80a210c6b0d1",
   "metadata": {},
   "outputs": [],
   "source": [
    "def compute_tf(document):\n",
    " word_count = Counter(document)\n",
    " tf = {word: count / len(document) for word, count in word_count.items()}\n",
    " return tf"
   ]
  },
  {
   "cell_type": "code",
   "execution_count": 10,
   "id": "95d68a17-a21f-494d-88ef-448b2585cf47",
   "metadata": {},
   "outputs": [],
   "source": [
    "def compute_idf(documents):\n",
    " N = len(documents) # Total number of documents\n",
    " idf = {}\n",
    " all_words = set(word for doc in documents for word in doc) # Unique words\n",
    " for word in all_words:\n",
    "     count = sum(1 for doc in documents if word in doc)\n",
    "     idf[word] = math.log(N / count)\n",
    " return idf"
   ]
  },
  {
   "cell_type": "code",
   "execution_count": 12,
   "id": "69d3d8c7-2db8-4f15-addf-2142c353ab7e",
   "metadata": {},
   "outputs": [],
   "source": [
    "def compute_tfidf(document, idf):\n",
    " tfidf = {}\n",
    " tf = compute_tf(document) # Get TF values for the document\n",
    " for word, tf_value in tf.items():\n",
    "     tfidf[word] = tf_value * idf[word] # Multiply TF and IDF\n",
    " return tfidf"
   ]
  },
  {
   "cell_type": "code",
   "execution_count": 14,
   "id": "4a5b143c-18d6-4f2a-8147-2a7c38f5be84",
   "metadata": {},
   "outputs": [],
   "source": [
    "documents = tokenized_reviews.tolist()"
   ]
  },
  {
   "cell_type": "code",
   "execution_count": 16,
   "id": "e239603c-8681-4acd-961b-6ff0043bae50",
   "metadata": {},
   "outputs": [],
   "source": [
    "tf_data = [compute_tf(doc) for doc in documents]\n",
    "tf_df = pd.DataFrame(tf_data).fillna(0)\n",
    "tf_df.to_csv(\"tf_scores.csv\", index=False)"
   ]
  },
  {
   "cell_type": "code",
   "execution_count": 18,
   "id": "2e1d6729-4944-4da7-8f4e-978087d99d43",
   "metadata": {},
   "outputs": [],
   "source": [
    "idf = compute_idf(documents)\n",
    "idf_df = pd.DataFrame([idf]).fillna(0)\n",
    "idf_df.to_csv(\"idf_scores.csv\", index=False)"
   ]
  },
  {
   "cell_type": "code",
   "execution_count": 20,
   "id": "61053cf4-e582-4666-a8bd-126eabcfbaf5",
   "metadata": {},
   "outputs": [],
   "source": [
    "tfidf_data = [compute_tfidf(doc, idf) for doc in documents]\n",
    "tfidf_df = pd.DataFrame(tfidf_data).fillna(0)\n",
    "tfidf_df.to_csv(\"tfidf_scores.csv\", index=False)"
   ]
  },
  {
   "cell_type": "code",
   "execution_count": null,
   "id": "b0f77435-dff8-4450-9ad6-2765c8fc873f",
   "metadata": {},
   "outputs": [],
   "source": []
  }
 ],
 "metadata": {
  "kernelspec": {
   "display_name": "Python [conda env:base] *",
   "language": "python",
   "name": "conda-base-py"
  },
  "language_info": {
   "codemirror_mode": {
    "name": "ipython",
    "version": 3
   },
   "file_extension": ".py",
   "mimetype": "text/x-python",
   "name": "python",
   "nbconvert_exporter": "python",
   "pygments_lexer": "ipython3",
   "version": "3.12.7"
  }
 },
 "nbformat": 4,
 "nbformat_minor": 5
}
