{
 "cells": [
  {
   "cell_type": "code",
   "execution_count": 1,
   "id": "4148a725-2c7b-42b5-88f3-801fd3d51f24",
   "metadata": {},
   "outputs": [],
   "source": [
    "import re"
   ]
  },
  {
   "cell_type": "code",
   "execution_count": 9,
   "id": "c2bc5e6e-456b-421a-b079-9bdabb00afea",
   "metadata": {},
   "outputs": [
    {
     "name": "stdout",
     "output_type": "stream",
     "text": [
      "Digits found: ['2', '4', '5', '6', '7', '8', '9', '3', '4', '1', '2', '3', '0']\n"
     ]
    }
   ],
   "source": [
    "text1 = \"Order number: 24567, Tracking ID: 8934A12, Quantity: 30\"\n",
    "pattern1 = r'\\d'  \n",
    "matches1 = re.findall(pattern1, text1)\n",
    "print(\"Digits found:\", matches1)"
   ]
  },
  {
   "cell_type": "code",
   "execution_count": 11,
   "id": "1591a51f-c9d6-4235-885b-90a0b40dc131",
   "metadata": {},
   "outputs": [
    {
     "name": "stdout",
     "output_type": "stream",
     "text": [
      "Non-alphanumeric characters: ['!', ' ', \"'\", ' ', ' ', ' ', '?', ' ', ' ', ' ', '@', ' ', '.']\n"
     ]
    }
   ],
   "source": [
    "text2 = \"Welcome! How's your day going? Call me @ 3pm.\"\n",
    "pattern2 = r'[^a-zA-Z0-9]'  \n",
    "matches2 = re.findall(pattern2, text2)\n",
    "print(\"Non-alphanumeric characters:\", matches2)\n"
   ]
  },
  {
   "cell_type": "code",
   "execution_count": 13,
   "id": "cdb04030-41f9-40c3-ab49-f3eaad3c2436",
   "metadata": {},
   "outputs": [
    {
     "name": "stdout",
     "output_type": "stream",
     "text": [
      "Split text: ['Data Science', ' AI', ' and Machine Learning', ' These fields are growing fast', '']\n"
     ]
    }
   ],
   "source": [
    "text3 = \"Data Science, AI, and Machine Learning. These fields are growing fast.\"\n",
    "pattern3 = r'[,.]'  \n",
    "split_text3 = re.split(pattern3, text3)\n",
    "print(\"Split text:\", split_text3)"
   ]
  },
  {
   "cell_type": "code",
   "execution_count": 15,
   "id": "9016825d-9d3c-4853-a569-f3fe6af9c50d",
   "metadata": {},
   "outputs": [
    {
     "name": "stdout",
     "output_type": "stream",
     "text": [
      "Anonymized text: Contact us at [HIDDEN] or [HIDDEN]\n"
     ]
    }
   ],
   "source": [
    "text4 = \"Contact us at support@example.com or info@company.org\"\n",
    "pattern4 = r'\\b[A-Za-z0-9._%+-]+@[A-Za-z0-9.-]+\\.[A-Za-z]{2,}\\b'  \n",
    "new_text4 = re.sub(pattern4, \"[HIDDEN]\", text4)\n",
    "print(\"Anonymized text:\", new_text4)"
   ]
  },
  {
   "cell_type": "code",
   "execution_count": 17,
   "id": "3fc91330-1be3-48b4-865a-92e7f1c6e286",
   "metadata": {},
   "outputs": [
    {
     "name": "stdout",
     "output_type": "stream",
     "text": [
      "Domain types: ['com', 'edu', 'org']\n"
     ]
    }
   ],
   "source": [
    "text5 = \"Emails: user@gmail.com, admin@university.edu, info@company.org\"\n",
    "pattern5 = r'@[\\w.-]+\\.(\\w+)'  \n",
    "matches5 = re.findall(pattern5, text5)\n",
    "print(\"Domain types:\", matches5)"
   ]
  },
  {
   "cell_type": "code",
   "execution_count": null,
   "id": "1c42674c-2481-46c4-8655-45e412cafa55",
   "metadata": {},
   "outputs": [],
   "source": []
  }
 ],
 "metadata": {
  "kernelspec": {
   "display_name": "Python [conda env:base] *",
   "language": "python",
   "name": "conda-base-py"
  },
  "language_info": {
   "codemirror_mode": {
    "name": "ipython",
    "version": 3
   },
   "file_extension": ".py",
   "mimetype": "text/x-python",
   "name": "python",
   "nbconvert_exporter": "python",
   "pygments_lexer": "ipython3",
   "version": "3.12.7"
  }
 },
 "nbformat": 4,
 "nbformat_minor": 5
}
